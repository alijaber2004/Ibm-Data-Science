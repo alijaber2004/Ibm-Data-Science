{
 "cells": [
  {
   "cell_type": "markdown",
   "id": "1c5c5c57",
   "metadata": {},
   "source": [
    "#Data Science Tools and Ecosystem"
   ]
  },
  {
   "cell_type": "markdown",
   "id": "17b9f4e1",
   "metadata": {},
   "source": [
    "# Data Science tools and Ecosystem"
   ]
  },
  {
   "cell_type": "markdown",
   "id": "f8566ac2",
   "metadata": {},
   "source": [
    "In this notebook, Data Science Tools and Ecosystem are summarized."
   ]
  },
  {
   "cell_type": "markdown",
   "id": "8a946d0f",
   "metadata": {},
   "source": [
    "**Objectives:\n",
    "- python\n",
    "- r\n",
    "- c++\n",
    "- javascript\n",
    "- anaconda"
   ]
  },
  {
   "cell_type": "markdown",
   "id": "724af74c",
   "metadata": {},
   "source": [
    "Some of the popular languages that Data Scientists use are:\n",
    "1.python\n",
    "2.R\n",
    "3.javascript"
   ]
  },
  {
   "cell_type": "markdown",
   "id": "aa8634ca",
   "metadata": {},
   "source": [
    "1.ali 2.jaber\n"
   ]
  },
  {
   "cell_type": "markdown",
   "id": "2896e2fb",
   "metadata": {},
   "source": [
    "Some of the popular languages that Data Scientists use are:\n",
    "        1. python\n",
    "        2. R\n",
    "        3. JavaScript"
   ]
  },
  {
   "cell_type": "markdown",
   "id": "33b17bd7",
   "metadata": {},
   "source": [
    "Some of the popular languages that Data Scientists use are: 1. python\n",
    "    1. R 1. JavaScript"
   ]
  },
  {
   "cell_type": "markdown",
   "id": "fd1e40b7",
   "metadata": {},
   "source": [
    "Some of the popular languages that Data Scientists use are: 1. python\n",
    "1. R \n",
    "1. JavaScript"
   ]
  },
  {
   "cell_type": "markdown",
   "id": "3f85a819",
   "metadata": {},
   "source": [
    "Some of the popular languages that Data Scientists use are\n",
    "1. python\n",
    "1. R  \n",
    "1. JavaScript"
   ]
  },
  {
   "cell_type": "markdown",
   "id": "7e9efe82",
   "metadata": {},
   "source": [
    "Some of the commonly used libraries by Data Scientists include:\n",
    "1. ggplot\n",
    "1. Numpy\n",
    "1. panadas"
   ]
  },
  {
   "cell_type": "markdown",
   "id": "f23b2177",
   "metadata": {},
   "source": [
    "| Data Science Tools |\n",
    "| ------------------ |\n",
    "| Vscode |\n",
    "| anaconda |\n",
    "| rstudio |"
   ]
  },
  {
   "cell_type": "markdown",
   "id": "2b35b5e9",
   "metadata": {},
   "source": [
    "### Below are a few examples of evaluating arithmetic expressions in Python"
   ]
  },
  {
   "cell_type": "code",
   "execution_count": 3,
   "id": "9129d9fc",
   "metadata": {},
   "outputs": [
    {
     "name": "stdout",
     "output_type": "stream",
     "text": [
      "This a simple arithmetic expression to mutiply then add integers\n"
     ]
    },
    {
     "data": {
      "text/plain": [
       "17"
      ]
     },
     "execution_count": 3,
     "metadata": {},
     "output_type": "execute_result"
    }
   ],
   "source": [
    "print('This a simple arithmetic expression to mutiply then add integers')\n",
    "(3*4)+5"
   ]
  },
  {
   "cell_type": "code",
   "execution_count": 4,
   "id": "c6c847a8",
   "metadata": {},
   "outputs": [
    {
     "name": "stdout",
     "output_type": "stream",
     "text": [
      "This will convert 200 minutes to hours by diving by 60\n"
     ]
    },
    {
     "data": {
      "text/plain": [
       "3.3333333333333335"
      ]
     },
     "execution_count": 4,
     "metadata": {},
     "output_type": "execute_result"
    }
   ],
   "source": [
    "print('This will convert 200 minutes to hours by diving by 60')\n",
    "(200/60)"
   ]
  },
  {
   "cell_type": "markdown",
   "id": "8c3e9f87",
   "metadata": {},
   "source": [
    "## Author \n",
    "ali jaber"
   ]
  },
  {
   "cell_type": "code",
   "execution_count": null,
   "id": "a5934bd1",
   "metadata": {},
   "outputs": [],
   "source": []
  }
 ],
 "metadata": {
  "kernelspec": {
   "display_name": "Python 3 (ipykernel)",
   "language": "python",
   "name": "python3"
  },
  "language_info": {
   "codemirror_mode": {
    "name": "ipython",
    "version": 3
   },
   "file_extension": ".py",
   "mimetype": "text/x-python",
   "name": "python",
   "nbconvert_exporter": "python",
   "pygments_lexer": "ipython3",
   "version": "3.11.5"
  }
 },
 "nbformat": 4,
 "nbformat_minor": 5
}
